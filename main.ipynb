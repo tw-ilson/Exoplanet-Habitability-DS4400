{
 "cells": [
  {
   "cell_type": "code",
   "execution_count": 1,
   "id": "291732be",
   "metadata": {},
   "outputs": [],
   "source": [
    "import os\n",
    "import math\n",
    "import csv\n",
    "import numpy as np\n",
    "import pandas as pd\n",
    "import matplotlib.pyplot as plt\n",
    "# from astroquery import sha\n",
    "# from astropy import coordinates as coord\n",
    "# from astropy import units as u\n",
    "# import requests\n",
    "# import pyvo as vo\n",
    "\n",
    "PI = math.pi"
   ]
  },
  {
   "cell_type": "code",
   "execution_count": 2,
   "id": "268dd0a0",
   "metadata": {},
   "outputs": [],
   "source": [
    "#TODO: ESTABLISH DICTIONARY OF PLANET NAMES\n",
    "#      CENTRALIZE TABLES\n",
    "\n",
    "\n",
    "systems_df = pd.read_csv('data/PS_2021.11.10_14.15.35.csv', sep=',', low_memory=False)\n",
    "transitspec_df = pd.read_csv('data/transitspec_2021.10.21_17.04.26.csv', sep=',', low_memory=False)\n",
    "emispec_df = pd.read_csv('data/emissionspec_2021.10.22_13.36.00.csv', sep=',', low_memory=False)"
   ]
  },
  {
   "cell_type": "code",
   "execution_count": 3,
   "id": "fea6cc39",
   "metadata": {},
   "outputs": [
    {
     "name": "stdout",
     "output_type": "stream",
     "text": [
      "pl_name\n",
      "hostname\n",
      "default_flag\n",
      "sy_snum\n",
      "sy_pnum\n",
      "pl_controv_flag\n",
      "pl_orbper\n",
      "pl_orbsmax\n",
      "pl_rade\n",
      "pl_radj\n",
      "pl_bmasse\n",
      "pl_bmassj\n",
      "pl_bmassprov\n",
      "pl_orbeccen\n",
      "pl_insol\n",
      "pl_eqt\n",
      "ttv_flag\n",
      "st_spectype\n",
      "st_teff\n",
      "st_rad\n",
      "st_mass\n",
      "st_met\n",
      "st_metratio\n",
      "st_logg\n",
      "rastr\n",
      "ra\n",
      "decstr\n",
      "dec\n",
      "sy_dist\n",
      "sy_vmag\n",
      "sy_kmag\n",
      "sy_gaiamag\n"
     ]
    }
   ],
   "source": [
    "#what are the MOST ESSENTIAL features?\n",
    "for col in systems_df.columns:\n",
    "    print(col)"
   ]
  },
  {
   "cell_type": "code",
   "execution_count": 15,
   "id": "17a9680d",
   "metadata": {},
   "outputs": [
    {
     "name": "stdout",
     "output_type": "stream",
     "text": [
      "4542\n"
     ]
    }
   ],
   "source": [
    "names = systems_df['pl_name']\n",
    "earth_masses = systems_df['pl_bmasse']\n",
    "num_stars = systems_df['sy_snum']\n",
    "num_planets = systems_df['sy_pnum']\n",
    "\n",
    "#remove rows with nonzero 'contraversial' flag\n",
    "systems_df = systems_df[systems_df['pl_controv_flag'] == 0]\n",
    "\n",
    "#filter only for readings that are considered the 'default' reading for a particular planet\n",
    "systems_defaultonly_df = systems_df[systems_df['default_flag'] == 1]\n",
    "\n",
    "#the number of non-contraversial planets in the table\n",
    "print(len(systems_defaultonly_df))\n",
    "\n",
    "#extract the stellar features of highest importance from this table\n",
    "# - Host Star Name (optional)\n",
    "# - Stellar Mass\n",
    "# - Stellar Metallicity\n",
    "# - Stellar Effective temperature\n",
    "starinfo_df = systems_df[['st_mass', 'st_met', 'st_teff']]\n",
    "\n",
    "#define these same features for our sun (source: Wikipedia)\n",
    "SUN_MASS = 1\n",
    "SUN_MET = 0.0122\n",
    "SUN_TEFF = 5772\n",
    "\n",
    "m_sun = np.array([SUN_MASS,\n",
    "                 SUN_MET,\n",
    "                 SUN_TEFF])"
   ]
  },
  {
   "cell_type": "code",
   "execution_count": 16,
   "id": "963d9e48",
   "metadata": {},
   "outputs": [
    {
     "name": "stdout",
     "output_type": "stream",
     "text": [
      "mean vector of stellar features:\n",
      " st_mass       0.963049\n",
      "st_met       -0.032020\n",
      "st_teff    5506.199830\n",
      "dtype: float64 \n",
      "\n",
      "covariance of key stellar features\n",
      "            st_mass    st_met        st_teff\n",
      "st_mass    0.108597  0.015115     130.920613\n",
      "st_met     0.015115  0.051251       8.992934\n",
      "st_teff  130.920613  8.992934  512870.653409\n",
      "\n",
      "correlation of key stellar features\n",
      "          st_mass    st_met   st_teff\n",
      "st_mass  1.000000  0.202608  0.554746\n",
      "st_met   0.202608  1.000000  0.055469\n",
      "st_teff  0.554746  0.055469  1.000000\n",
      "       st_mass  st_met  st_teff\n",
      "0         2.70  -0.350  4742.00\n",
      "3         2.78  -0.020  4213.00\n",
      "4         1.80   0.040  4340.00\n",
      "6         2.20  -0.240  4813.00\n",
      "7         0.97   0.405  5314.94\n",
      "...        ...     ...      ...\n",
      "29975     1.15   0.101  6105.51\n",
      "29978     1.15   0.101  6105.51\n",
      "29981     1.29   0.122  6156.77\n",
      "29982     1.31   0.131  6089.00\n",
      "29984     2.20  -0.205  4780.00\n",
      "\n",
      "[18453 rows x 3 columns]\n"
     ]
    }
   ],
   "source": [
    "starinfo_x = starinfo_df.dropna()\n",
    "\n",
    "starinfo_mean = starinfo_x.mean();\n",
    "\n",
    "print(\"mean vector of stellar features:\\n {0} \\n\".format(starinfo_mean))\n",
    "\n",
    "print(\"covariance of key stellar features\")\n",
    "cov_X = starinfo_x.cov()\n",
    "print(cov_X)\n",
    "\n",
    "print(\"\\ncorrelation of key stellar features\")\n",
    "corr_X = starinfo_x.corr()\n",
    "print(corr_X)\n",
    "\n",
    "print(starinfo_x)"
   ]
  },
  {
   "cell_type": "code",
   "execution_count": 29,
   "id": "3560e339-5998-45df-83ab-3e8935fff5ae",
   "metadata": {},
   "outputs": [
    {
     "name": "stdout",
     "output_type": "stream",
     "text": [
      "(18453, 3)\n",
      "[[ 2.70000e+00 -3.50000e-01  4.74200e+03]\n",
      " [ 2.78000e+00 -2.00000e-02  4.21300e+03]\n",
      " [ 1.80000e+00  4.00000e-02  4.34000e+03]\n",
      " ...\n",
      " [ 1.29000e+00  1.22000e-01  6.15677e+03]\n",
      " [ 1.31000e+00  1.31000e-01  6.08900e+03]\n",
      " [ 2.20000e+00 -2.05000e-01  4.78000e+03]]\n"
     ]
    }
   ],
   "source": [
    "#####################################################\n",
    "#DEFINE INPUT SPACE\n",
    "#####################################################\n",
    "\n",
    "X = starinfo_x.to_numpy()\n",
    "print (X.shape)\n",
    "print(X)\n"
   ]
  },
  {
   "cell_type": "code",
   "execution_count": 31,
   "id": "d41b32c9-619e-4e37-bf1c-39841b2c8472",
   "metadata": {},
   "outputs": [
    {
     "name": "stdout",
     "output_type": "stream",
     "text": [
      "Eigenvectors from PCA: [[-0.00785563  0.04281078]\n",
      " [-0.01329351  0.05141511]\n",
      " [-0.01198801  0.02793375]\n",
      " ...\n",
      " [ 0.00668757  0.00529306]\n",
      " [ 0.00599093  0.00628489]\n",
      " [-0.00746501  0.03217487]]\n",
      "\n",
      "Eigenvalues from PCA: [9.46348992e+09 1.48951042e+03]\n",
      "\n"
     ]
    }
   ],
   "source": [
    "#PCA\n",
    "from sklearn.decomposition import KernelPCA, FactorAnalysis\n",
    "pca = KernelPCA(n_components=2, kernel='linear')\n",
    "pca.fit(X)\n",
    "\n",
    "print(f\"Eigenvectors from PCA: {pca.eigenvectors_}\\n\")\n",
    "print(f\"Eigenvalues from PCA: {pca.eigenvalues_}\\n\")"
   ]
  },
  {
   "cell_type": "code",
   "execution_count": null,
   "id": "082475aa",
   "metadata": {},
   "outputs": [],
   "source": [
    "#we need to extract classes or habitability metric in a deterministic fashion from this data.\n",
    "#Do this using multivariate Gaussian distribution centered around sun data.\n",
    "                                                                   \n",
    "#gaussian: (mean vector, cov matrix) -> (num -> prob)\n",
    "def gaussian(mu, sig):\n",
    "    return lambda x : (1 / (2 * PI * np.linalg.det(sig))**(1/2)) * np.exp(-1/2 * np.transpose(np.subtract(x, mu)) * np.linalg.inv(sig) * np.subtract(x,mu))\n",
    "\n",
    "\n",
    "sun_likeness = gaussian(m_sun, corr_X)\n",
    "\n",
    "sun_likeness(np.array(starinfo_x)[:, 1:])\n"
   ]
  },
  {
   "cell_type": "code",
   "execution_count": null,
   "id": "fb9565be",
   "metadata": {},
   "outputs": [],
   "source": [
    "from sklearn.naive_bayes import GaussianNB\n",
    "from sklearn import svm"
   ]
  },
  {
   "cell_type": "code",
   "execution_count": null,
   "id": "8adfe5fc",
   "metadata": {},
   "outputs": [],
   "source": [
    "\n",
    "#The above mean, covariance can parameterize a multivariate gaussian distribution\n",
    "\n",
    "#Each bayesian update will take inner producc of star vector and sun  data\n",
    "\n",
    "#Gaussian distribution is updated by each entry in star table\n",
    "\n",
    "\n",
    "\n"
   ]
  }
 ],
 "metadata": {
  "kernelspec": {
   "display_name": "Python 3 (ipykernel)",
   "language": "python",
   "name": "python3"
  },
  "language_info": {
   "codemirror_mode": {
    "name": "ipython",
    "version": 3
   },
   "file_extension": ".py",
   "mimetype": "text/x-python",
   "name": "python",
   "nbconvert_exporter": "python",
   "pygments_lexer": "ipython3",
   "version": "3.9.8"
  }
 },
 "nbformat": 4,
 "nbformat_minor": 5
}
